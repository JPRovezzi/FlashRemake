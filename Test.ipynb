{
 "cells": [
  {
   "cell_type": "code",
   "execution_count": 4,
   "metadata": {},
   "outputs": [],
   "source": [
    "import os"
   ]
  },
  {
   "cell_type": "code",
   "execution_count": 1,
   "metadata": {},
   "outputs": [
    {
     "data": {
      "text/plain": [
       "'J'"
      ]
     },
     "execution_count": 1,
     "metadata": {},
     "output_type": "execute_result"
    }
   ],
   "source": [
    "input()"
   ]
  },
  {
   "cell_type": "code",
   "execution_count": 73,
   "metadata": {},
   "outputs": [
    {
     "name": "stdout",
     "output_type": "stream",
     "text": [
      "/home/juanr/Documentos/Git/Flash/Flash.exe\n"
     ]
    }
   ],
   "source": [
    "exe_name    = \"Flash.exe\"\n",
    "folder_path = str(os.getcwd())\n",
    "exe_path    = folder_path+f\"/{exe_name}\"\n",
    "print(exe_path)\n"
   ]
  },
  {
   "cell_type": "code",
   "execution_count": 74,
   "metadata": {},
   "outputs": [
    {
     "name": "stdout",
     "output_type": "stream",
     "text": [
      "1\n",
      "\n",
      " IOUT =  1\n",
      " IF IOUT = 0: OUTPUT ONLY ON UNIT 6\n",
      " IF IOUT = 1: OUTPUT ON BOTH UNIT 6 AND 1\n",
      "\n",
      "\n",
      "\n",
      "\n",
      " **** FLASH CALCULATION ****\n",
      " MODEL USED FOR LIQUID PHASE NON-IDEALITY: UNIFAC\n",
      "\n",
      "\n",
      " COMPONENTS : \"llecalas2\"                                                             \n",
      "\n",
      "\n",
      " SUB GROUPS :  1  2  3 15 17 23 43\n",
      " MAIN GROUPS:  1  1  1  5  7 11 20\n",
      " COMPONENT\n",
      "       1       1  6  0  0  0  0  1\n",
      "       2       0  2  1  3  0  0  0\n",
      "       3       1  9  1  2  0  1  0\n",
      "       4       2 16  1  1  0  2  0\n",
      "       5       3 23  1  0  0  3  0\n",
      "       6       0  0  0  0  1  0  0\n",
      "\n",
      "\n",
      "\n",
      " GROUP R- AND Q-VALUES\n",
      "\n",
      "   1    1.3013    0.8480\n",
      "   2    0.6744    0.5400\n",
      "   3    0.9011    0.2280\n",
      "  15    1.0000    1.2000\n",
      "  17    0.9200    1.4000\n",
      "  23    1.6760    1.4200\n",
      "  43    1.3010    1.2240\n",
      "\n",
      "\n",
      "\n",
      "  INTERACTION PARAMETERS\n",
      "\n",
      "        0.000     986.500    1318.000     232.100     663.500\n",
      "      156.400       0.000     353.500     101.100     199.000\n",
      "      300.000    -229.100       0.000      72.870     -14.090\n",
      "      114.800     245.400     200.800       0.000     660.200\n",
      "      315.300    -151.000     -66.170    -256.300       0.000\n",
      "\n",
      "\n",
      "\n",
      " UNIFAC MOLECULAR R AND Q\n",
      "\n",
      "    1         6.6487         5.3120\n",
      "    2         5.2499         4.9080\n",
      "    3        11.9480         9.7560\n",
      "    4        18.6461        14.6040\n",
      "    5        25.3442        19.4520\n",
      "    6         0.9200         1.4000\n",
      "\n",
      "\n",
      "\n",
      " * * * FLASH NUMBER  1 * * *\n",
      "\n",
      "\n",
      " TEMPERATURE =  372.9500 K, PRESSURE =  1.000 ATM, FEED =      0.44 MOLES\n",
      " FEED COMPOSITION (MOLE PERCENT):\n",
      "  50.000 50.000  0.000  0.000  0.000  0.000\n",
      "\n",
      " SYSTEM IS UNSTABLE, PHASE SPLIT PERFORMED\n",
      "\n",
      "\n",
      " RESULT OF 2-PHASE CALCULATION:\n",
      " NO VAPOR PHASE\n",
      "\n",
      "  PHASE FRACTIONS (PERCENT):       1 43.821            2 56.179\n",
      "\n",
      "  COMPOSITION                      1                   2\n",
      "   X( 1)                      0.82956523          0.24292727\n",
      "  ln(G 1)                      0.08091873          1.30905837\n",
      "   X( 2)                      0.17043321          0.75707232\n",
      "  ln(G 2)                      1.61253623          0.12142092\n",
      "   X( 3)                      0.00000040          0.00000009\n",
      "  ln(G 3)                     -0.39601177          1.05920691\n",
      "   X( 4)                      0.00000051          0.00000001\n",
      "  ln(G 4)                     -0.18725454          4.21429813\n",
      "   X( 5)                      0.00000052          0.00000000\n",
      "  ln(G 5)                      1.05849498          8.40638164\n",
      "   X( 6)                      0.00000013          0.00000031\n",
      "  ln(G 6)                      1.20889667          0.33644588\n",
      "\n",
      " * SYSTEM IS STABLE *\n",
      "\n"
     ]
    },
    {
     "data": {
      "text/plain": [
       "0"
      ]
     },
     "execution_count": 74,
     "metadata": {},
     "output_type": "execute_result"
    }
   ],
   "source": [
    "os.system(f\"wine {exe_path}\")"
   ]
  },
  {
   "cell_type": "code",
   "execution_count": 86,
   "metadata": {},
   "outputs": [],
   "source": [
    "def write_input(folder_path):\n",
    "    \"\"\"''''''''''''''''''''''''''''''''''''''''''''''''''''''''''''\n",
    "    ' This subroutine writes the input file\n",
    "    ''''''''''''''''''''''' '''''''''''''''''''''''''''''''''''''\"\"\"\n",
    "    Ncomp = int(input())\n",
    "    Ngrup = None #REVISAR\n",
    "    Name  = str(input())\n",
    "    name1 = Name + \".dat\"\n",
    "    file  = open(folder_path + \"name.dat\",\"w\")\n",
    "    file.write(f\"0 \\n\\\"{name1}\\\"\")\n",
    "    file.close()\n",
    "write_input(folder_path)\n",
    "\n"
   ]
  }
 ],
 "metadata": {
  "kernelspec": {
   "display_name": "Fortran01",
   "language": "python",
   "name": "python3"
  },
  "language_info": {
   "codemirror_mode": {
    "name": "ipython",
    "version": 3
   },
   "file_extension": ".py",
   "mimetype": "text/x-python",
   "name": "python",
   "nbconvert_exporter": "python",
   "pygments_lexer": "ipython3",
   "version": "3.10.6"
  },
  "orig_nbformat": 4
 },
 "nbformat": 4,
 "nbformat_minor": 2
}
